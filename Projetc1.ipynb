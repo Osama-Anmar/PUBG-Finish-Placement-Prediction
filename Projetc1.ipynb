{
 "cells": [
  {
   "cell_type": "markdown",
   "metadata": {},
   "source": [
    "# Import Important Libraries"
   ]
  },
  {
   "cell_type": "code",
   "execution_count": 1,
   "metadata": {},
   "outputs": [],
   "source": [
    "import pandas as pd\n",
    "import numpy as np\n",
    "import matplotlib.pyplot as plt\n",
    "import seaborn as sns\n",
    "from sklearn.preprocessing import MinMaxScaler\n",
    "from sklearn.preprocessing import StandardScaler\n",
    "from sklearn.preprocessing import LabelEncoder\n",
    "import psutil\n",
    "import gc\n",
    "from sklearn.ensemble import RandomForestRegressor\n",
    "from sklearn.metrics import r2_score, mean_absolute_error, mean_squared_error\n",
    "from sklearn.tree import DecisionTreeRegressor\n",
    "from sklearn.model_selection import KFold\n",
    "from sklearn.model_selection import GridSearchCV\n",
    "from sklearn.linear_model import LinearRegression\n",
    "from xgboost import XGBRegressor\n",
    "\n",
    "gc.collect()\n",
    "sns.set_style(\"darkgrid\")"
   ]
  },
  {
   "cell_type": "markdown",
   "metadata": {},
   "source": [
    "# Ignore Warnings"
   ]
  },
  {
   "cell_type": "code",
   "execution_count": null,
   "metadata": {},
   "outputs": [],
   "source": [
    "import os\n",
    "os.environ['TF_CPP_MIN_LOG_LEVEL'] = '3'\n",
    " \n",
    "import warnings\n",
    "warnings.filterwarnings(action='ignore')"
   ]
  },
  {
   "cell_type": "markdown",
   "metadata": {},
   "source": [
    "# Import Dataset"
   ]
  },
  {
   "cell_type": "code",
   "execution_count": 2,
   "metadata": {},
   "outputs": [],
   "source": [
    "TrainData = pd.read_csv('train_V2.csv')"
   ]
  },
  {
   "cell_type": "markdown",
   "metadata": {},
   "source": [
    "# Group Data By Match Id"
   ]
  },
  {
   "cell_type": "code",
   "execution_count": null,
   "metadata": {},
   "outputs": [],
   "source": [
    "TrainData.groupby(['matchId']).mean()"
   ]
  },
  {
   "cell_type": "markdown",
   "metadata": {},
   "source": [
    "# Dataset Information"
   ]
  },
  {
   "cell_type": "code",
   "execution_count": null,
   "metadata": {},
   "outputs": [],
   "source": [
    "TrainData.shape"
   ]
  },
  {
   "cell_type": "code",
   "execution_count": null,
   "metadata": {},
   "outputs": [],
   "source": [
    "TrainData.head()"
   ]
  },
  {
   "cell_type": "code",
   "execution_count": null,
   "metadata": {},
   "outputs": [],
   "source": [
    "TrainData.tail()"
   ]
  },
  {
   "cell_type": "code",
   "execution_count": null,
   "metadata": {},
   "outputs": [],
   "source": [
    "TrainData.info(memory_usage = \"deep\")"
   ]
  },
  {
   "cell_type": "code",
   "execution_count": null,
   "metadata": {},
   "outputs": [],
   "source": [
    "# Memory Optimization\n",
    "for column in TrainData:\n",
    " if TrainData[column].dtype == 'float64':\n",
    "    TrainData[column]=pd.to_numeric(TrainData[column], downcast='float')\n",
    " if TrainData[column].dtype == 'int64':\n",
    "    TrainData[column]=pd.to_numeric(TrainData[column], downcast='integer')"
   ]
  },
  {
   "cell_type": "code",
   "execution_count": null,
   "metadata": {},
   "outputs": [],
   "source": [
    "TrainData.info(memory_usage = \"deep\")"
   ]
  },
  {
   "cell_type": "code",
   "execution_count": null,
   "metadata": {},
   "outputs": [],
   "source": [
    "TrainData.describe().T"
   ]
  },
  {
   "cell_type": "code",
   "execution_count": null,
   "metadata": {},
   "outputs": [],
   "source": [
    "TrainData.columns"
   ]
  },
  {
   "cell_type": "code",
   "execution_count": null,
   "metadata": {},
   "outputs": [],
   "source": [
    "TrainData.nunique()"
   ]
  },
  {
   "cell_type": "markdown",
   "metadata": {},
   "source": [
    "# Data Correlation"
   ]
  },
  {
   "cell_type": "code",
   "execution_count": null,
   "metadata": {},
   "outputs": [],
   "source": [
    "TrainData.corr().abs()"
   ]
  },
  {
   "cell_type": "code",
   "execution_count": null,
   "metadata": {},
   "outputs": [],
   "source": [
    "# Colerration Matrix\n",
    "fig, ax = plt.subplots(figsize=(20,20))\n",
    "sns.heatmap(TrainData.corr().abs(),annot=True, cmap=\"BrBG\", ax=ax);"
   ]
  },
  {
   "cell_type": "markdown",
   "metadata": {},
   "source": [
    "# Dealing With Missing Values"
   ]
  },
  {
   "cell_type": "code",
   "execution_count": 3,
   "metadata": {},
   "outputs": [
    {
     "data": {
      "text/plain": [
       "Id                 0\n",
       "groupId            0\n",
       "matchId            0\n",
       "assists            0\n",
       "boosts             0\n",
       "damageDealt        0\n",
       "DBNOs              0\n",
       "headshotKills      0\n",
       "heals              0\n",
       "killPlace          0\n",
       "killPoints         0\n",
       "kills              0\n",
       "killStreaks        0\n",
       "longestKill        0\n",
       "matchDuration      0\n",
       "matchType          0\n",
       "maxPlace           0\n",
       "numGroups          0\n",
       "rankPoints         0\n",
       "revives            0\n",
       "rideDistance       0\n",
       "roadKills          0\n",
       "swimDistance       0\n",
       "teamKills          0\n",
       "vehicleDestroys    0\n",
       "walkDistance       0\n",
       "weaponsAcquired    0\n",
       "winPoints          0\n",
       "winPlacePerc       1\n",
       "dtype: int64"
      ]
     },
     "execution_count": 3,
     "metadata": {},
     "output_type": "execute_result"
    }
   ],
   "source": [
    "TrainData.isnull().sum()"
   ]
  },
  {
   "cell_type": "code",
   "execution_count": 4,
   "metadata": {},
   "outputs": [],
   "source": [
    "TrainData.dropna(inplace=True)"
   ]
  },
  {
   "cell_type": "markdown",
   "metadata": {},
   "source": [
    "# Detect Duplicated Data"
   ]
  },
  {
   "cell_type": "code",
   "execution_count": null,
   "metadata": {},
   "outputs": [],
   "source": [
    "TrainData.duplicated().sum()"
   ]
  },
  {
   "cell_type": "markdown",
   "metadata": {},
   "source": [
    "# Stripplot"
   ]
  },
  {
   "cell_type": "code",
   "execution_count": null,
   "metadata": {},
   "outputs": [],
   "source": [
    "fig,((ax1, ax2), (ax3, ax4), (ax5, ax6),(ax7, ax8))= plt.subplots(ncols=2, nrows=4, figsize=(22,22))\n",
    "\n",
    "sns.stripplot(data=TrainData, x='assists', ax=ax1).set_title(\"Assists Stripplot\");\n",
    "\n",
    "sns.stripplot(data=TrainData, x= 'damageDealt', ax=ax2).set_title(\"Damage Dealt Stripplot\");\n",
    "\n",
    "sns.stripplot(data= TrainData, x= 'boosts', ax=ax3).set_title('Boosts Stripplot');\n",
    "\n",
    "sns.stripplot(data=TrainData, x='DBNOs', ax=ax4).set_title('DBNOs Stripplot');\n",
    "\n",
    "sns.stripplot(data=TrainData, x='headshotKills', ax=ax5).set_title('Head Shot Kills Strippolt');\n",
    "\n",
    "sns.stripplot(data= TrainData, x='heals', ax=ax6).set_title('Heals Stripplot');\n",
    "\n",
    "sns.stripplot(data=TrainData, x='killPlace', ax=ax7).set_title('Kill Place Stripplot');\n",
    "\n",
    "sns.stripplot(data=TrainData, x='killPoints', ax=ax8).set_title('Kill Points Stripplot');"
   ]
  },
  {
   "cell_type": "code",
   "execution_count": null,
   "metadata": {},
   "outputs": [],
   "source": [
    "fig,((ax9, ax10),(ax11, ax12),(ax13, ax14))= plt.subplots(ncols=2, nrows=3, figsize=(22, 22))\n",
    "\n",
    "sns.stripplot(data=TrainData, x='kills', ax=ax9).set_title('Kills Stripplot');\n",
    "\n",
    "sns.stripplot(data=TrainData, x='killStreaks', ax=ax10).set_title('Kill Streaks Stripplot');\n",
    "\n",
    "sns.stripplot(data=TrainData, x = 'longestKill', ax=ax11).set_title('Kills Stripplot');\n",
    "\n",
    "sns.stripplot(data=TrainData, x='matchDuration', ax=ax12).set_title('Match Duration Stripplot');\n",
    "\n",
    "sns.stripplot(data=TrainData, x = 'maxPlace', ax=ax13).set_title('Max Place Stripplot');\n",
    "\n",
    "sns.stripplot(data=TrainData, x= 'rankPoints', ax=ax14).set_title('Rank Points Stripplot');"
   ]
  },
  {
   "cell_type": "code",
   "execution_count": null,
   "metadata": {},
   "outputs": [],
   "source": [
    "fig,( (ax15,ax16, ax17), (ax18, ax19, ax20), (ax21, ax22, ax23))= plt.subplots(ncols=3, nrows=3, figsize=(22,22))\n",
    "\n",
    "sns.stripplot(data=TrainData, x='revives', ax=ax15).set_title('Revives Stripplot');\n",
    "\n",
    "sns.stripplot(data=TrainData, x='rideDistance', ax=ax16).set_title(\"Ride Distance Stripplot\");\n",
    "\n",
    "sns.stripplot(data=TrainData, x= 'roadKills', ax=ax17).set_title(\"Road Kills Stripplot\");\n",
    "\n",
    "sns.stripplot(data= TrainData, x= 'swimDistance', ax=ax18).set_title('Swim Distance Stripplot');\n",
    "\n",
    "sns.stripplot(data=TrainData, x='teamKills', ax=ax19).set_title('Team Kills Stripplot');\n",
    "\n",
    "sns.stripplot(data=TrainData, x='vehicleDestroys', ax=ax20).set_title('Vehicle Destroys Strippolt');\n",
    "\n",
    "sns.stripplot(data= TrainData, x='walkDistance', ax=ax21).set_title('Walk Distance Stripplot');\n",
    "\n",
    "sns.stripplot(data=TrainData, x='weaponsAcquired', ax=ax22).set_title('Weapons Acquired Stripplot');\n",
    "\n",
    "sns.stripplot(data=TrainData, x='winPoints', ax=ax23).set_title('Win Points Stripplot');"
   ]
  },
  {
   "cell_type": "markdown",
   "metadata": {},
   "source": [
    "# Count Plot"
   ]
  },
  {
   "cell_type": "code",
   "execution_count": null,
   "metadata": {},
   "outputs": [],
   "source": [
    "sns.countplot(data=TrainData, x='matchType');\n",
    "plt.xticks(rotation=60);"
   ]
  },
  {
   "cell_type": "markdown",
   "metadata": {},
   "source": [
    "# Scatter Plot"
   ]
  },
  {
   "cell_type": "code",
   "execution_count": null,
   "metadata": {},
   "outputs": [],
   "source": [
    "fig,((ax1, ax2), (ax3, ax4), (ax5, ax6),(ax7, ax8))= plt.subplots(ncols=2, nrows=4, figsize=(22,22))\n",
    "\n",
    "sns.scatterplot(data=TrainData, x='assists', y='winPlacePerc', ax=ax1).set_title(\"Relationship Between Assists And Win Place Perc\");\n",
    "\n",
    "sns.scatterplot(data=TrainData, x= 'damageDealt',  y='winPlacePerc', ax=ax2).set_title(\"Relationship Between Damage Dealt And Win Place Perc\");\n",
    "\n",
    "sns.scatterplot(data= TrainData, x= 'boosts',  y='winPlacePerc', ax=ax3).set_title(\"Relationship Between Boosts And Win Place Perc\");\n",
    "\n",
    "sns.scatterplot(data=TrainData, x='DBNOs',  y='winPlacePerc', ax=ax4).set_title(\"Relationship BetweenDBNOs And Win Place Perc\");\n",
    "\n",
    "sns.scatterplot(data=TrainData, x='headshotKills',  y='winPlacePerc', ax=ax5).set_title(\"Relationship Between Head Shot Kills And Win Place Perc\");\n",
    "\n",
    "sns.scatterplot(data= TrainData, x='heals',  y='winPlacePerc', ax=ax6).set_title(\"Relationship Between Heals And Win Place Perc\");\n",
    "\n",
    "sns.scatterplot(data=TrainData, x='killPlace',  y='winPlacePerc', ax=ax7).set_title(\"Relationship Between Kill Place And Win Place Perc\");\n",
    "\n",
    "sns.scatterplot(data=TrainData, x='killPoints',  y='winPlacePerc', ax=ax8).set_title(\"Relationship Between Kill Points And Win Place Perc\");"
   ]
  },
  {
   "cell_type": "code",
   "execution_count": null,
   "metadata": {},
   "outputs": [],
   "source": [
    "fig, ((ax9, ax10), (ax11, ax12), (ax13, ax14)) = plt.subplots(ncols=2, nrows=3, figsize=(22, 22))\n",
    "\n",
    "sns.scatterplot(data=TrainData, x='kills', y='winPlacePerc', ax=ax9).set_title(\"Relationship Between Kills And Win Place Perc\");\n",
    "\n",
    "sns.scatterplot(data=TrainData, x='killStreaks', y='winPlacePerc',  ax=ax10).set_title(\"Relationship Between Kill Streaks And Win Place Perc\");\n",
    "\n",
    "sns.scatterplot(data=TrainData, x = 'longestKill',y='winPlacePerc',  ax=ax11).set_title(\"Relationship Between Longest Kill And Win Place Perc\");\n",
    "\n",
    "sns.scatterplot(data=TrainData, x='matchDuration', y='winPlacePerc',  ax=ax12).set_title(\"Relationship Between Match Duration And Win Place Perc\");\n",
    "\n",
    "sns.scatterplot(data=TrainData, x = 'maxPlace', y='winPlacePerc', ax=ax13).set_title(\"Relationship Between Max Place And Win Place Perc\");\n",
    "\n",
    "sns.scatterplot(data=TrainData, x= 'rankPoints', y='winPlacePerc', ax=ax14).set_title(\"Relationship Between Rank Points And Win Place Perc\");\n"
   ]
  },
  {
   "cell_type": "code",
   "execution_count": null,
   "metadata": {},
   "outputs": [],
   "source": [
    "fig, ((ax15, ax16, ax17), (ax18, ax19, ax20), (ax21, ax22, ax23)) = plt.subplots(nrows=3, ncols=3, figsize=(22, 22));\n",
    "\n",
    "sns.scatterplot(data=TrainData, x='rideDistance', y='winPlacePerc', ax=ax15).set_title('Relationship Between Ride Distance And Win Place Perc');\n",
    "\n",
    "sns.scatterplot(data=TrainData, x='roadKills', y='winPlacePerc', ax=ax16).set_title('Relationship Betweeen Road Kills And Win Place Perc');\n",
    "\n",
    "sns.scatterplot(data=TrainData, x='swimDistance', y='winPlacePerc', ax=ax17).set_title('Relationship Between Swim Distance And Win Place Perc');\n",
    "\n",
    "sns.scatterplot(data=TrainData, x='teamKills', y='winPlacePerc', ax=ax18).set_title('Relationship Between Team Kills And Win Place Perc');\n",
    "\n",
    "sns.scatterplot(data=TrainData, x='vehicleDestroys', y='winPlacePerc', ax=ax19).set_title('Relationship Between Vehicle Destroys And Win Place Perc');\n",
    "\n",
    "sns.scatterplot(data=TrainData, x='walkDistance', y='winPlacePerc', ax=ax20).set_title('Relationship Between Walk Distance And Win Place Perc');\n",
    "\n",
    "sns.scatterplot(data=TrainData, x='weaponsAcquired', y='winPlacePerc', ax=ax21).set_title('Relationship Between Weapons Acquired And Win Place Perc');\n",
    "\n",
    "sns.scatterplot(data=TrainData, x='winPoints', y='winPlacePerc', ax=ax22).set_title('Relationship Between Win Points And Win Place Perc');\n",
    "\n",
    "sns.scatterplot(data=TrainData, x='revives', y='winPlacePerc', ax=ax23).set_title(\"Relationship Between Revives And Win Place Perc\");"
   ]
  },
  {
   "cell_type": "markdown",
   "metadata": {},
   "source": [
    "# Player Travel Distance"
   ]
  },
  {
   "cell_type": "code",
   "execution_count": null,
   "metadata": {},
   "outputs": [],
   "source": [
    "walk = TrainData[\"walkDistance\"] == 0\n",
    "ride = TrainData[\"rideDistance\"] == 0\n",
    "swim = TrainData[\"swimDistance\"] == 0\n",
    "print(\"{} of Players walk for 0 meter, {} players drive for 0 meter and {} swim for 0 meter.\" .format(walk.sum(),ride.sum(),swim.sum()))"
   ]
  },
  {
   "cell_type": "markdown",
   "metadata": {},
   "source": [
    "# Player Using Heals"
   ]
  },
  {
   "cell_type": "code",
   "execution_count": null,
   "metadata": {},
   "outputs": [],
   "source": [
    "heals = TrainData[\"heals\"] > 0\n",
    "print(\"{} of Players use heals .\" .format(heals.sum()))"
   ]
  },
  {
   "cell_type": "markdown",
   "metadata": {},
   "source": [
    "# Player Killd With Head Shot"
   ]
  },
  {
   "cell_type": "code",
   "execution_count": null,
   "metadata": {},
   "outputs": [],
   "source": [
    "headshot = TrainData[\"headshotKills\"] > 0\n",
    "print(\"{} of Players killed with headshot .\" .format(headshot.sum()))"
   ]
  },
  {
   "cell_type": "markdown",
   "metadata": {},
   "source": [
    "# Kills"
   ]
  },
  {
   "cell_type": "code",
   "execution_count": null,
   "metadata": {},
   "outputs": [],
   "source": [
    "kills = TrainData[\"kills\"] > 1\n",
    "print(\"{} of player kill at least one enemy .\" .format(kills.sum()))"
   ]
  },
  {
   "cell_type": "markdown",
   "metadata": {},
   "source": [
    "# Weapons Acquired"
   ]
  },
  {
   "cell_type": "code",
   "execution_count": null,
   "metadata": {},
   "outputs": [],
   "source": [
    "weapon = TrainData[\"weaponsAcquired\"] > 1\n",
    "print(\"{} of player picked up at least one weapon .\" .format(weapon.sum()))"
   ]
  },
  {
   "cell_type": "markdown",
   "metadata": {},
   "source": [
    "# Head Shot Rate"
   ]
  },
  {
   "cell_type": "code",
   "execution_count": null,
   "metadata": {},
   "outputs": [],
   "source": [
    "HeadShotRate =( sum(TrainData['headshotKills']) / sum(TrainData['kills'])) \n",
    "HeadShotRate"
   ]
  },
  {
   "cell_type": "markdown",
   "metadata": {},
   "source": [
    "# Longest Kill Rate"
   ]
  },
  {
   "cell_type": "code",
   "execution_count": null,
   "metadata": {},
   "outputs": [],
   "source": [
    "LongestKillRate =( sum(TrainData['longestKill']) / sum(TrainData['kills'])) \n",
    "LongestKillRate"
   ]
  },
  {
   "cell_type": "markdown",
   "metadata": {},
   "source": [
    "# Analyzing Winner Players"
   ]
  },
  {
   "cell_type": "code",
   "execution_count": null,
   "metadata": {},
   "outputs": [],
   "source": [
    "Winner = TrainData[TrainData['winPlacePerc']==1]"
   ]
  },
  {
   "cell_type": "markdown",
   "metadata": {},
   "source": [
    "# Winner Players Data Correlation"
   ]
  },
  {
   "cell_type": "code",
   "execution_count": null,
   "metadata": {},
   "outputs": [],
   "source": [
    "Winner.corr().abs()"
   ]
  },
  {
   "cell_type": "code",
   "execution_count": null,
   "metadata": {},
   "outputs": [],
   "source": [
    "fig, ax = plt.subplots(figsize=(20,20))\n",
    "sns.heatmap(Winner.corr().abs(), square=True,annot=True, cmap=\"BrBG\", ax=ax);"
   ]
  },
  {
   "cell_type": "markdown",
   "metadata": {},
   "source": [
    "# Winner Player Visualization"
   ]
  },
  {
   "cell_type": "code",
   "execution_count": null,
   "metadata": {},
   "outputs": [],
   "source": [
    "fig, ((ax1, ax2), (ax3, ax4), (ax5, ax6), (ax7, ax8)) = plt.subplots(nrows=4, ncols=2, figsize=(20,20))\n",
    "\n",
    "sns.histplot(Winner['assists'], ax=ax1);\n",
    "ax1.set(title = 'Assist Histogram Plot For Winner Players', xlabel='Assist', ylabel='Count');\n",
    "\n",
    "sns.histplot(Winner['boosts'],ax=ax2)\n",
    "ax2.set(title = 'Boots Histogram Plot For Winner Players', xlabel = 'Boots', ylabel='Count');\n",
    "\n",
    "sns.histplot(Winner['damageDealt'],ax=ax3)\n",
    "ax3.set(title = 'Damage Dealt Histogram Plot For Winner Players', xlabel='Damage Dealt', ylabel='Count');\n",
    "\n",
    "sns.histplot(Winner['DBNOs'],ax=ax4)\n",
    "ax4.set(title='DBNOs Histogram Plot For Winner Players', xlabel='DBNOs', ylabel='Count');\n",
    "\n",
    "sns.histplot(Winner['headshotKills'],ax=ax5)\n",
    "ax5.set(title='Head Shot Kills Histogram Plot For Winner Players', xlabel='Head Shot Kills', ylabel='Count');\n",
    "\n",
    "sns.histplot(Winner['heals'],ax=ax6)\n",
    "ax6.set(title='Heals Histogram Plot For Winner Player', xlabel='heals', ylabel='Count');\n",
    "\n",
    "sns.histplot(Winner['killPlace'],ax=ax7)\n",
    "ax7.set(title='Kill Place Histogram Plot For Winner Player', xlabel='Kill Place', ylabel='Count');\n",
    "\n",
    "sns.histplot(Winner['killPoints'],ax=ax8)\n",
    "ax8.set(title='Kill Points Histogram Plot For Winner Player', xlabel='Kill Points', ylabel='Count');\n"
   ]
  },
  {
   "cell_type": "code",
   "execution_count": null,
   "metadata": {},
   "outputs": [],
   "source": [
    "fig, ((ax9, ax10), (ax11, ax12), (ax13, ax14), (ax15, ax16)) = plt.subplots(nrows=4, ncols=2, figsize=(20,20))\n",
    "\n",
    "sns.histplot(Winner['kills'], ax=ax9);\n",
    "ax9.set(title = 'Kills Histogram Plot For Winner Players', xlabel='Kills', ylabel='Count');\n",
    "\n",
    "sns.histplot(Winner['killStreaks'],ax=ax10)\n",
    "ax10.set(title = 'Kill Streaks Histogram Plot For Winner Players', xlabel = 'Kill Streaks', ylabel='Count');\n",
    "\n",
    "sns.histplot(Winner['longestKill'],ax=ax11)\n",
    "ax11.set(title = 'Longest Kill Histogram Plot For Winner Players', xlabel='Longest Kill', ylabel='Count');\n",
    "\n",
    "sns.histplot(Winner['matchDuration'],ax=ax12)\n",
    "ax12.set(title='Match Duration Histogram Plot For Winner Players', xlabel='Match Duration', ylabel='Count');\n",
    "\n",
    "sns.histplot(Winner['maxPlace'],ax=ax13)\n",
    "ax13.set(title='Max Place Histogram Plot For Winner Player', xlabel='Max Place', ylabel='Count');\n",
    "\n",
    "sns.histplot(Winner['rankPoints'],ax=ax14)\n",
    "ax14.set(title='Rank Points Histogram Plot For Winner Player', xlabel='Rank Points', ylabel='Count');\n",
    "\n",
    "sns.histplot(Winner['revives'],ax=ax15)\n",
    "ax15.set(title='Revives Histogram Plot For Winner Player', xlabel='Revives', ylabel='Count');\n",
    "\n",
    "sns.histplot(Winner['matchType'],ax=ax16)\n",
    "ax16.set(title='Match Type For Winner Player', xlabel='Match Type', ylabel='Count');\n",
    "\n",
    "plt.xticks(rotation=60);"
   ]
  },
  {
   "cell_type": "code",
   "execution_count": null,
   "metadata": {},
   "outputs": [],
   "source": [
    "fig, ((ax17, ax18), (ax19, ax20), (ax21, ax22), (ax23, ax24)) = plt.subplots(nrows=4, ncols=2, figsize=(20,20))\n",
    "\n",
    "sns.histplot(Winner['rideDistance'], ax=ax17);\n",
    "ax17.set(title = 'Ride Distance Histogram Plot For Winner Players', xlabel='Ride Distance', ylabel='Count');\n",
    "\n",
    "sns.histplot(Winner['roadKills'],ax=ax18)\n",
    "ax18.set(title = 'Road Kills Histogram Plot For Winner Players', xlabel = 'Road Kills', ylabel='Count');\n",
    "\n",
    "sns.histplot(Winner['swimDistance'],ax=ax19)\n",
    "ax19.set(title = 'Swim Distance Histogram Plot For Winner Players', xlabel=' Swim Distance', ylabel='Count');\n",
    "\n",
    "sns.histplot(Winner['teamKills'],ax=ax20)\n",
    "ax20.set(title='Team Kills Histogram Plot For Winner Players', xlabel='Team Kills', ylabel='Count');\n",
    "\n",
    "sns.histplot(Winner['vehicleDestroys'],ax=ax21)\n",
    "ax21.set(title='Vehicle Destroys Histogram Plot For Winner Players', xlabel='Vehicle Destroys', ylabel='Count');\n",
    "\n",
    "sns.histplot(Winner['walkDistance'],ax=ax22)\n",
    "ax22.set(title='Walk Distance Histogram Plot For Winner Player', xlabel='Walk Distance', ylabel='Count');\n",
    "\n",
    "sns.histplot(Winner['weaponsAcquired'],ax=ax23)\n",
    "ax23.set(title='Weapons Acquired Histogram Plot For Winner Player', xlabel='Weapons Acquired', ylabel='Count');\n",
    "\n",
    "sns.histplot(Winner['winPoints'],ax=ax24)\n",
    "ax24.set(title='Win Points Histogram Plot For Winner Player', xlabel='Win Points', ylabel='Count');\n"
   ]
  },
  {
   "cell_type": "markdown",
   "metadata": {},
   "source": [
    "# Player Win Without Acquired Any Weapons"
   ]
  },
  {
   "cell_type": "code",
   "execution_count": null,
   "metadata": {},
   "outputs": [],
   "source": [
    "weapon = Winner['weaponsAcquired'] == 0\n",
    "print(\"{} of Players win without acquired any weapon \" .format(weapon.sum()))"
   ]
  },
  {
   "cell_type": "markdown",
   "metadata": {},
   "source": [
    "# Player Win Without Kill Any One"
   ]
  },
  {
   "cell_type": "code",
   "execution_count": null,
   "metadata": {},
   "outputs": [],
   "source": [
    "Kill = Winner['kills'] == 0\n",
    "print(\"{} of Players win without kill anyone\" .format(Kill.sum()))"
   ]
  },
  {
   "cell_type": "markdown",
   "metadata": {},
   "source": [
    "# Player Win Without Use Any Heals"
   ]
  },
  {
   "cell_type": "code",
   "execution_count": null,
   "metadata": {},
   "outputs": [],
   "source": [
    "heals = Winner['heals'] == 0\n",
    "print(\"{} of Players win without using heals\" .format(heals.sum()))"
   ]
  },
  {
   "cell_type": "markdown",
   "metadata": {},
   "source": [
    "# Player Win Without Travel"
   ]
  },
  {
   "cell_type": "code",
   "execution_count": null,
   "metadata": {},
   "outputs": [],
   "source": [
    "walk1 = Winner[\"walkDistance\"] == 0\n",
    "ride1 = Winner[\"rideDistance\"] == 0\n",
    "swim1 = Winner[\"swimDistance\"] == 0\n",
    "print(\"{} of Players win without walk at all, {} players win without drive and {} win without swim.\" .format(walk1.sum(),ride1.sum(),swim1.sum()))"
   ]
  },
  {
   "cell_type": "markdown",
   "metadata": {},
   "source": [
    "# Analyzing Losser Player "
   ]
  },
  {
   "cell_type": "code",
   "execution_count": null,
   "metadata": {},
   "outputs": [],
   "source": [
    "Losser = TrainData[TrainData['winPlacePerc']==0]"
   ]
  },
  {
   "cell_type": "markdown",
   "metadata": {},
   "source": [
    "# Losser Player Data Correlation"
   ]
  },
  {
   "cell_type": "code",
   "execution_count": null,
   "metadata": {},
   "outputs": [],
   "source": [
    "Losser.corr().abs()"
   ]
  },
  {
   "cell_type": "code",
   "execution_count": null,
   "metadata": {},
   "outputs": [],
   "source": [
    "fig, ax = plt.subplots(figsize=(20,20))\n",
    "sns.heatmap(Winner.corr().abs(), square=True,annot=True, cmap=\"BrBG\", ax=ax);"
   ]
  },
  {
   "cell_type": "markdown",
   "metadata": {},
   "source": [
    "# Losser Player Data Visualization"
   ]
  },
  {
   "cell_type": "code",
   "execution_count": null,
   "metadata": {},
   "outputs": [],
   "source": [
    "fig, ((ax1, ax2), (ax3, ax4), (ax5, ax6), (ax7, ax8)) = plt.subplots(nrows=4, ncols=2, figsize=(20,20))\n",
    "\n",
    "sns.histplot(Losser['assists'], ax=ax1);\n",
    "ax1.set(title = 'Assist Histogram Plot For Losser Players', xlabel='Assist', ylabel='Count');\n",
    "\n",
    "sns.histplot(Losser['boosts'],ax=ax2)\n",
    "ax2.set(title = 'Boots Histogram Plot For Losser Players', xlabel = 'Boots', ylabel='Count');\n",
    "\n",
    "sns.histplot(Losser['damageDealt'],ax=ax3)\n",
    "ax3.set(title = 'Damage Dealt Histogram Plot For Losser Players', xlabel='Damage Dealt', ylabel='Count');\n",
    "\n",
    "sns.histplot(Losser['DBNOs'],ax=ax4)\n",
    "ax4.set(title='DBNOs Histogram Plot For Losser Players', xlabel='DBNOs', ylabel='Count');\n",
    "\n",
    "sns.histplot(Losser['headshotKills'],ax=ax5)\n",
    "ax5.set(title='Head Shot Kills Histogram Plot For Losser Players', xlabel='Head Shot Kills', ylabel='Count');\n",
    "\n",
    "sns.histplot(Losser['heals'],ax=ax6)\n",
    "ax6.set(title='Heals Histogram Plot For Losser Player', xlabel='heals', ylabel='Count');\n",
    "\n",
    "sns.histplot(Losser['killPlace'],ax=ax7)\n",
    "ax7.set(title='Kill Place Histogram Plot For Losser Player', xlabel='Kill Place', ylabel='Count');\n",
    "\n",
    "sns.histplot(Losser['killPoints'],ax=ax8)\n",
    "ax8.set(title='Kill Points Histogram Plot For Losser Player', xlabel='Kill Points', ylabel='Count');\n"
   ]
  },
  {
   "cell_type": "code",
   "execution_count": null,
   "metadata": {},
   "outputs": [],
   "source": [
    "fig, ((ax9, ax10), (ax11, ax12), (ax13, ax14), (ax15, ax16)) = plt.subplots(nrows=4, ncols=2, figsize=(20,20))\n",
    "\n",
    "sns.histplot(Losser['kills'], ax=ax9,);\n",
    "ax9.set(title = 'Kills Histogram Plot For Losser Players', xlabel='Kills', ylabel='Count');\n",
    "\n",
    "sns.histplot(Losser['killStreaks'],ax=ax10)\n",
    "ax10.set(title = 'Kill Streaks Histogram Plot For Losser Players', xlabel = 'Kill Streaks', ylabel='Count');\n",
    "\n",
    "sns.histplot(Losser['longestKill'],ax=ax11)\n",
    "ax11.set(title = 'Longest Kill Histogram Plot For Losser Players', xlabel='Longest Kill', ylabel='Count');\n",
    "\n",
    "sns.histplot(Losser['matchDuration'],ax=ax12)\n",
    "ax12.set(title='Match Duration Histogram Plot For Losser Players', xlabel='Match Duration', ylabel='Count');\n",
    "\n",
    "sns.histplot(Losser['maxPlace'],ax=ax13)\n",
    "ax13.set(title='Max Place Histogram Plot For Losser Player', xlabel='Max Place', ylabel='Count');\n",
    "\n",
    "sns.histplot(Losser['rankPoints'],ax=ax14)\n",
    "ax14.set(title='Rank Points Histogram Plot For Losser Player', xlabel='Rank Points', ylabel='Count');\n",
    "\n",
    "sns.histplot(Losser['revives'],ax=ax15)\n",
    "ax15.set(title='Revives Histogram Plot For Losser Player', xlabel='Revives', ylabel='Count');\n",
    "\n",
    "sns.histplot(Losser['matchType'],ax=ax16)\n",
    "ax16.set(title='Match Type For Losser Player', xlabel='Match Type', ylabel='Count');\n",
    "\n",
    "plt.xticks(rotation=60);"
   ]
  },
  {
   "cell_type": "code",
   "execution_count": null,
   "metadata": {},
   "outputs": [],
   "source": [
    "fig, ((ax17, ax18), (ax19, ax20), (ax21, ax22), (ax23, ax24)) = plt.subplots(nrows=4, ncols=2, figsize=(20,20))\n",
    "\n",
    "sns.histplot(Losser['rideDistance'], ax=ax17);\n",
    "ax17.set(title = 'Ride Distance Histogram Plot For Losser Players', xlabel='Ride Distance', ylabel='Count');\n",
    "\n",
    "sns.histplot(Losser['roadKills'],ax=ax18)\n",
    "ax18.set(title = 'Road Kills Histogram Plot For Losser Players', xlabel = 'Road Kills', ylabel='Count');\n",
    "\n",
    "sns.histplot(Losser['swimDistance'],ax=ax19)\n",
    "ax19.set(title = 'Swim Distance Histogram Plot For Losser Players', xlabel=' Swim Distance', ylabel='Count');\n",
    "\n",
    "sns.histplot(Losser['teamKills'],ax=ax20)\n",
    "ax20.set(title='Team Kills Histogram Plot For Losser Players', xlabel='Team Kills', ylabel='Count');\n",
    "\n",
    "sns.histplot(Losser['vehicleDestroys'],ax=ax21)\n",
    "ax21.set(title='Vehicle Destroys Histogram Plot For Losser Players', xlabel='Vehicle Destroys', ylabel='Count');\n",
    "\n",
    "sns.histplot(Losser['walkDistance'],ax=ax22)\n",
    "ax22.set(title='Walk Distance Histogram Plot For Losser Player', xlabel='Walk Distance', ylabel='Count');\n",
    "\n",
    "sns.histplot(Losser['weaponsAcquired'],ax=ax23)\n",
    "ax23.set(title='Weapons Acquired Histogram Plot For Losser Player', xlabel='Weapons Acquired', ylabel='Count');\n",
    "\n",
    "sns.histplot(Losser['winPoints'],ax=ax24)\n",
    "ax24.set(title='Win Points Histogram Plot For Losser Player', xlabel='Win Points', ylabel='Count');\n"
   ]
  },
  {
   "cell_type": "markdown",
   "metadata": {},
   "source": [
    "# Analyzing Kills "
   ]
  },
  {
   "cell_type": "code",
   "execution_count": null,
   "metadata": {},
   "outputs": [],
   "source": [
    "fig, ((ax1, ax2), (ax3, ax4), (ax5, ax6), (ax7,ax8), (ax9,ax10), (ax11, ax12)) = plt.subplots(nrows=6, ncols=2, figsize=(30,30))\n",
    "\n",
    "sns.scatterplot(data=TrainData, x='killPlace', y='kills', ax=ax1).set_title('Relationship Between Kills And Kill Place');\n",
    "\n",
    "sns.scatterplot(data=TrainData, x='killPoints', y='kills', ax=ax2).set_title('Relationship Between Kills And Kill Points');\n",
    "\n",
    "sns.scatterplot(data=TrainData, x='headshotKills', y='kills', ax=ax3).set_title('Relationship Between Kills And  Head shot Kills');\n",
    "\n",
    "sns.scatterplot(data=TrainData, x='longestKill', y='kills', ax=ax4).set_title('Relationship Between Kills And Longest Kill');\n",
    "\n",
    "sns.scatterplot(data=TrainData, x='killStreaks', y='kills', ax=ax5).set_title('Relationship Between Kills And kill Streaks');\n",
    "\n",
    "sns.scatterplot(data=TrainData, x='roadKills', y='kills', ax=ax6).set_title('Relationship Between Kills And Road Kills ');\n",
    "\n",
    "sns.scatterplot(data=TrainData, x='heals', y='kills', ax=ax7).set_title('Relationship Between Kills And Heals');\n",
    "\n",
    "sns.scatterplot(data=TrainData, x='swimDistance', y='kills', ax=ax8).set_title('Relationship Between Kills And Swim Distance');\n",
    "\n",
    "sns.scatterplot(data=TrainData, x='walkDistance', y='kills', ax=ax9).set_title('Relationship Between Kills And Walk Distance');\n",
    "\n",
    "sns.scatterplot(data=TrainData, x='rideDistance', y='kills', ax=ax10).set_title('Relationship Between Kills And Ride Distance');\n",
    "\n",
    "sns.scatterplot(data=TrainData, x='weaponsAcquired', y='kills', ax=ax11).set_title('Relationship Between Kill And Weapons Acquired');\n",
    "\n",
    "sns.scatterplot(data=TrainData, x='vehicleDestroys', y='kills', ax=ax12).set_title('Relationship Between Kills And Vehicle Destroys');"
   ]
  },
  {
   "cell_type": "markdown",
   "metadata": {},
   "source": [
    "# Drop Features"
   ]
  },
  {
   "cell_type": "code",
   "execution_count": 5,
   "metadata": {},
   "outputs": [],
   "source": [
    "TrainData.drop(['Id', 'groupId', 'matchId', 'numGroups'], inplace=True, axis=1)"
   ]
  },
  {
   "cell_type": "markdown",
   "metadata": {},
   "source": [
    "# Label Encoding"
   ]
  },
  {
   "cell_type": "code",
   "execution_count": 6,
   "metadata": {},
   "outputs": [],
   "source": [
    "LabelEncoder = LabelEncoder()\n",
    "TrainData['matchType'] = LabelEncoder.fit_transform(TrainData['matchType'] )"
   ]
  },
  {
   "cell_type": "markdown",
   "metadata": {},
   "source": [
    "# Normalization"
   ]
  },
  {
   "cell_type": "code",
   "execution_count": 7,
   "metadata": {},
   "outputs": [],
   "source": [
    "Norm = MinMaxScaler()\n",
    "TrainData['assists'] = Norm.fit_transform(np.array(TrainData['assists']).reshape(-1,1))\n",
    "TrainData['boosts'] = Norm.fit_transform(np.array(TrainData['boosts']).reshape(-1,1))\n",
    "TrainData['damageDealt'] = Norm.fit_transform(np.array(TrainData['damageDealt']).reshape(-1, 1))\n",
    "TrainData['DBNOs'] = Norm.fit_transform(np.array(TrainData['DBNOs']).reshape(-1, 1))\n",
    "TrainData['headshotKills'] = Norm.fit_transform(np.array(TrainData['headshotKills']).reshape(-1,1))\n",
    "TrainData['heals'] = Norm.fit_transform(np.array(TrainData['heals']).reshape(-1,1))\n",
    "TrainData['killPlace'] = Norm.fit_transform(np.array(TrainData['killPlace']).reshape(-1,1))\n",
    "TrainData['killPoints'] = Norm.fit_transform(np.array(TrainData['killPoints']).reshape(-1, 1))\n",
    "TrainData['kills'] = Norm.fit_transform(np.array(TrainData['kills']).reshape(-1,1))\n",
    "TrainData['killStreaks'] = Norm.fit_transform(np.array(TrainData['killStreaks']).reshape(-1,1))\n",
    "TrainData['longestKill'] = Norm.fit_transform(np.array(TrainData['longestKill']).reshape(-1,1))\n",
    "TrainData['matchDuration'] = Norm.fit_transform(np.array(TrainData['matchDuration']).reshape(-1, 1))\n",
    "TrainData['maxPlace'] = Norm.fit_transform(np.array(TrainData['maxPlace']).reshape(-1,1))\n",
    "TrainData['rankPoints'] = Norm.fit_transform(np.array(TrainData['rankPoints']).reshape(-1, 1))\n",
    "TrainData['revives'] = Norm.fit_transform(np.array(TrainData['revives']).reshape(-1,1))\n",
    "TrainData['rideDistance'] = Norm.fit_transform(np.array(TrainData['rideDistance']).reshape(-1,1))\n",
    "TrainData['roadKills'] = Norm.fit_transform(np.array(TrainData['roadKills']).reshape(-1,1))\n",
    "TrainData['swimDistance'] = Norm.fit_transform(np.array(TrainData['swimDistance']).reshape(-1,1))\n",
    "TrainData['teamKills'] = Norm.fit_transform(np.array(TrainData['teamKills']).reshape(-1,1))\n",
    "TrainData['vehicleDestroys'] = Norm.fit_transform(np.array(TrainData['vehicleDestroys']).reshape(-1,1))\n",
    "TrainData['walkDistance'] = Norm.fit_transform(np.array(TrainData['walkDistance']).reshape(-1, 1))\n",
    "TrainData['weaponsAcquired'] = Norm.fit_transform(np.array(TrainData['weaponsAcquired']).reshape(-1,1))\n",
    "TrainData['winPoints'] = Norm.fit_transform(np.array(TrainData['winPoints']).reshape(-1,1))\n",
    "TrainData['matchType'] = Norm.fit_transform(np.array(TrainData['matchType']).reshape(-1,1))"
   ]
  },
  {
   "cell_type": "markdown",
   "metadata": {},
   "source": [
    "# Detect Outliers\n"
   ]
  },
  {
   "cell_type": "code",
   "execution_count": null,
   "metadata": {},
   "outputs": [],
   "source": [
    "fig,((ax1, ax2), (ax3, ax4), (ax5, ax6))= plt.subplots(ncols=2, nrows=3, figsize=(22,22))\n",
    "\n",
    "sns.boxplot(data=TrainData, x='assists', ax=ax1);\n",
    "\n",
    "sns.boxplot(data=TrainData, x= 'damageDealt', ax=ax2);\n",
    "\n",
    "sns.boxplot(data= TrainData, x= 'boosts', ax=ax3);\n",
    "\n",
    "sns.boxplot(data=TrainData, x='DBNOs', ax=ax4);\n",
    "\n",
    "sns.boxplot(data=TrainData, x='headshotKills', ax=ax5);\n",
    "\n",
    "sns.boxplot(data= TrainData, x='heals', ax=ax6);\n",
    "\n",
    "\n"
   ]
  },
  {
   "cell_type": "code",
   "execution_count": null,
   "metadata": {},
   "outputs": [],
   "source": [
    "fig,((ax7, ax8, ax9), (ax10, ax11, ax12), (ax13, ax14, ax15))= plt.subplots(ncols=3, nrows=3, figsize=(22, 22))\n",
    "\n",
    "sns.boxplot(data=TrainData, x='killPlace', ax=ax7);\n",
    "\n",
    "sns.boxplot(data=TrainData, x='kills', ax=ax8);\n",
    "\n",
    "sns.boxplot(data=TrainData, x='killStreaks', ax=ax9);\n",
    "\n",
    "sns.boxplot(data=TrainData, x = 'longestKill', ax=ax10);\n",
    "\n",
    "sns.boxplot(data=TrainData, x='matchDuration', ax=ax11);\n",
    "\n",
    "sns.boxplot(data=TrainData, x = 'maxPlace', ax=ax12);\n",
    "\n",
    "sns.boxplot(data=TrainData, x= 'rankPoints', ax=ax13);\n",
    "\n",
    "sns.boxplot(data=TrainData, x='revives', ax=ax14);\n",
    "\n",
    "sns.boxplot(data=TrainData, x= 'revives', ax=ax15);"
   ]
  },
  {
   "cell_type": "code",
   "execution_count": null,
   "metadata": {},
   "outputs": [],
   "source": [
    "fig,((ax16, ax17), (ax18, ax19), (ax20, ax21),(ax22, ax23))= plt.subplots(ncols=2, nrows=4, figsize=(22,22))\n",
    "\n",
    "sns.boxplot(data=TrainData, x='rideDistance', ax=ax16).set_title(\"Ride Distance Stripplot\");\n",
    "\n",
    "sns.boxplot(data=TrainData, x= 'roadKills', ax=ax17).set_title(\"Road Kills Stripplot\");\n",
    "\n",
    "sns.boxplot(data= TrainData, x= 'swimDistance', ax=ax18).set_title('Swim Distance Stripplot');\n",
    "\n",
    "sns.boxplot(data=TrainData, x='teamKills', ax=ax19).set_title('Team Kills Stripplot');\n",
    "\n",
    "sns.boxplot(data=TrainData, x='vehicleDestroys', ax=ax20).set_title('Vehicle Destroys Strippolt');\n",
    "\n",
    "sns.boxplot(data= TrainData, x='walkDistance', ax=ax21).set_title('Walk Distance Stripplot');\n",
    "\n",
    "sns.boxplot(data=TrainData, x='weaponsAcquired', ax=ax22).set_title('Weapons Acquired Stripplot');\n",
    "\n",
    "sns.boxplot(data=TrainData, x='winPoints', ax=ax23).set_title('Win Points Stripplot');"
   ]
  },
  {
   "cell_type": "markdown",
   "metadata": {},
   "source": [
    "# Remove Outliers"
   ]
  },
  {
   "cell_type": "code",
   "execution_count": 8,
   "metadata": {},
   "outputs": [],
   "source": [
    "for i in TrainData:\n",
    "          q75,q25 = np.percentile(TrainData.loc[:,i],[75,25])\n",
    "          intr_qr = q75-q25\n",
    " \n",
    "          max = q75+(1.5*intr_qr)\n",
    "          min = q25-(1.5*intr_qr)\n",
    " \n",
    "          TrainData.loc[TrainData[i] < min,i] = np.nan\n",
    "          TrainData.loc[TrainData[i] > max,i] = np.nan"
   ]
  },
  {
   "cell_type": "code",
   "execution_count": 9,
   "metadata": {},
   "outputs": [
    {
     "data": {
      "text/plain": [
       "(1644128, 25)"
      ]
     },
     "execution_count": 9,
     "metadata": {},
     "output_type": "execute_result"
    }
   ],
   "source": [
    "TrainData.dropna(inplace=True)\n",
    "TrainData.shape"
   ]
  },
  {
   "cell_type": "markdown",
   "metadata": {},
   "source": [
    "# Split The Data Into X And y"
   ]
  },
  {
   "cell_type": "code",
   "execution_count": 10,
   "metadata": {},
   "outputs": [],
   "source": [
    "X = TrainData.drop(['winPlacePerc'], inplace=False, axis=1)\n",
    "y = TrainData['winPlacePerc']"
   ]
  },
  {
   "cell_type": "markdown",
   "metadata": {},
   "source": [
    "# Models"
   ]
  },
  {
   "cell_type": "markdown",
   "metadata": {},
   "source": [
    "**A. Decision Tree**"
   ]
  },
  {
   "cell_type": "code",
   "execution_count": 11,
   "metadata": {},
   "outputs": [
    {
     "name": "stdout",
     "output_type": "stream",
     "text": [
      " \n",
      "The Best Decision Tree Parameters Are: {'max_depth': 10}\n",
      " \n",
      "Decision Tree Mean Absolute Error: Mean Absulote Error    0.054078\n",
      "dtype: float64\n",
      "\n",
      "Decision Tree Mean Squred Error: r    0.006246\n",
      "dtype: float64\n"
     ]
    },
    {
     "name": "stderr",
     "output_type": "stream",
     "text": [
      "/Library/Frameworks/Python.framework/Versions/3.10/lib/python3.10/site-packages/numpy/core/fromnumeric.py:3430: FutureWarning: In a future version, DataFrame.mean(axis=None) will return a scalar mean over the entire DataFrame. To retain the old behavior, use 'frame.mean(axis=0)' or just 'frame.mean()'\n",
      "  return mean(axis=axis, dtype=dtype, out=out, **kwargs)\n"
     ]
    }
   ],
   "source": [
    "kf = KFold(n_splits=3)\n",
    "meanabsoluteerrorDT = []\n",
    "meansquarederrorDT = []\n",
    "\n",
    "\n",
    "for train_index, test_index in kf.split(X,y):\n",
    "    X_train, X_test = X.iloc[train_index], X.iloc[test_index]\n",
    "    y_train, y_test = y.iloc[train_index], y.iloc[test_index]\n",
    "    \n",
    "    DTParam = {\n",
    "                    'max_depth':[ 5, 6, 7, 8, 9, 10],     \n",
    "              }\n",
    " \n",
    "    DTGrid = GridSearchCV(estimator=DecisionTreeRegressor(random_state = 0, criterion='squared_error'), \n",
    "                                param_grid=DTParam,\n",
    "                                cv=2,\n",
    "                                refit = True,\n",
    "                                verbose = -1,\n",
    "                                return_train_score = True,\n",
    "                                )\n",
    "\n",
    "    # Fit The Decision Tree\n",
    "    DTGrid.fit(X_train, y_train)\n",
    "    y_pred = DTGrid.predict(X_test)\n",
    "\n",
    "    meanabsoluteerrorDT.append(mean_absolute_error(y_test, y_pred))\n",
    "    maeDT = pd.DataFrame(meanabsoluteerrorDT, columns=['Mean Absulote Error'])\n",
    "\n",
    "\n",
    "    meansquarederrorDT.append(mean_squared_error(y_test, y_pred))\n",
    "    mseDT = pd.DataFrame(meansquarederrorDT, columns=['r'])\n",
    "\n",
    "\n",
    "print(\" \")\n",
    "print(\"The Best Decision Tree Parameters Are:\", DTGrid.best_params_)\n",
    "print(\" \")\n",
    "print(\"Decision Tree Mean Absolute Error:\", np.mean(maeDT))\n",
    "print('')\n",
    "print('Decision Tree Mean Squred Error:', np.mean(mseDT))"
   ]
  },
  {
   "cell_type": "markdown",
   "metadata": {},
   "source": [
    "**C. Linear Regression**"
   ]
  },
  {
   "cell_type": "code",
   "execution_count": 12,
   "metadata": {},
   "outputs": [
    {
     "name": "stdout",
     "output_type": "stream",
     "text": [
      " \n",
      "Linear Regression Mean Absolutle Error Is Mean Absulote Error    0.071917\n",
      "dtype: float64\n",
      " \n",
      "Linear Regression Mean Squrad Error Is Mean Squred Error    0.012144\n",
      "dtype: float64\n"
     ]
    }
   ],
   "source": [
    "kf = KFold(n_splits=3)\n",
    "meanabsoluteerrorLR = []\n",
    "meansquarederrorLR = []\n",
    "\n",
    "for train_index, test_index in kf.split(X,y):\n",
    "    X_train, X_test = X.iloc[train_index], X.iloc[test_index]\n",
    "    y_train, y_test = y.iloc[train_index], y.iloc[test_index]\n",
    "    \n",
    "    lr =LinearRegression()\n",
    "\n",
    "    # Fit The Decision Tree\n",
    "    lr.fit(X_train, y_train)\n",
    "    y_pred = lr.predict(X_test)\n",
    "\n",
    "    meanabsoluteerrorLR.append(mean_absolute_error(y_test, y_pred))\n",
    "    maeLR = pd.DataFrame(meanabsoluteerrorLR, columns=['Mean Absulote Error'])\n",
    "\n",
    "\n",
    "    meansquarederrorLR.append(mean_squared_error(y_test, y_pred))\n",
    "    mseLR = pd.DataFrame(meansquarederrorLR, columns=['Mean Squred Error'])\n",
    "\n",
    "print(\" \")\n",
    "print('Linear Regression Mean Absolutle Error Is', maeLR.mean())\n",
    "print(\" \")\n",
    "print('Linear Regression Mean Squrad Error Is', mseLR.mean())"
   ]
  },
  {
   "cell_type": "markdown",
   "metadata": {},
   "source": [
    "**C. Random forest**"
   ]
  },
  {
   "cell_type": "code",
   "execution_count": 13,
   "metadata": {},
   "outputs": [
    {
     "name": "stdout",
     "output_type": "stream",
     "text": [
      " \n",
      "The Best Random Forest Parameters Are: {'max_depth': 10}\n",
      " \n",
      "Random Forest Mean Absolutle Error Is Mean Absulote Error    0.053207\n",
      "dtype: float64\n",
      " \n",
      "Random Forest Mean Squred Erroe Error Is Mean Squred Error    0.006011\n",
      "dtype: float64\n"
     ]
    }
   ],
   "source": [
    "kf = KFold(n_splits=3)\n",
    "meanabsoluteerrorRF = []\n",
    "meansquarederrorRF = []\n",
    "\n",
    "for train_index, test_index in kf.split(X,y):\n",
    "    X_train, X_test = X.iloc[train_index], X.iloc[test_index]\n",
    "    y_train, y_test = y.iloc[train_index], y.iloc[test_index]\n",
    "    \n",
    "    RFDTParam = {\n",
    "                    \n",
    "                    'max_depth':[ 5, 6, 7, 8, 9, 10],     \n",
    "              }\n",
    " \n",
    "    RFGrid = GridSearchCV(estimator=RandomForestRegressor(random_state = 0, n_estimators=10, criterion='squared_error'), \n",
    "                                param_grid=RFDTParam,\n",
    "                                cv=2,\n",
    "                                refit = True,\n",
    "                                verbose = -1,\n",
    "                                return_train_score = True,\n",
    "                                )\n",
    "\n",
    "    \n",
    "    RFGrid.fit(X_train, y_train)\n",
    "    y_pred = RFGrid.predict(X_test)\n",
    "\n",
    "    meanabsoluteerrorRF.append(mean_absolute_error(y_test, y_pred))\n",
    "    maeRF = pd.DataFrame(meanabsoluteerrorRF, columns=['Mean Absulote Error'])\n",
    "\n",
    "    meansquarederrorRF.append(mean_squared_error(y_test, y_pred))\n",
    "    mseRF = pd.DataFrame(meansquarederrorRF, columns=['Mean Squred Error'])\n",
    "\n",
    "\n",
    "print(\" \")\n",
    "print(\"The Best Random Forest Parameters Are:\", DTGrid.best_params_)\n",
    "print(\" \")\n",
    "print('Random Forest Mean Absolutle Error Is', maeRF.mean())\n",
    "print(\" \")\n",
    "print('Random Forest Mean Squred Erroe Error Is', mseRF.mean())\n"
   ]
  },
  {
   "cell_type": "code",
   "execution_count": null,
   "metadata": {},
   "outputs": [],
   "source": []
  }
 ],
 "metadata": {
  "kernelspec": {
   "display_name": "Python 3.10.7 64-bit",
   "language": "python",
   "name": "python3"
  },
  "language_info": {
   "codemirror_mode": {
    "name": "ipython",
    "version": 3
   },
   "file_extension": ".py",
   "mimetype": "text/x-python",
   "name": "python",
   "nbconvert_exporter": "python",
   "pygments_lexer": "ipython3",
   "version": "3.10.7"
  },
  "orig_nbformat": 4,
  "vscode": {
   "interpreter": {
    "hash": "aee8b7b246df8f9039afb4144a1f6fd8d2ca17a180786b69acc140d282b71a49"
   }
  }
 },
 "nbformat": 4,
 "nbformat_minor": 2
}
